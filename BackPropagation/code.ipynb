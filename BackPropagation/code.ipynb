{
 "cells": [
  {
   "cell_type": "code",
   "execution_count": 1,
   "id": "852b9007",
   "metadata": {},
   "outputs": [],
   "source": [
    "import numpy as np\n",
    "import pandas as pd\n"
   ]
  },
  {
   "cell_type": "code",
   "execution_count": 2,
   "id": "e6571aab",
   "metadata": {},
   "outputs": [],
   "source": [
    "df=pd.DataFrame([[8,8,4],[7,9,5],[6,10,6],[5,12,17]],columns=['cgpa','profile_score','lpa'])"
   ]
  },
  {
   "cell_type": "code",
   "execution_count": 3,
   "id": "72440768",
   "metadata": {},
   "outputs": [
    {
     "data": {
      "text/html": [
       "<div>\n",
       "<style scoped>\n",
       "    .dataframe tbody tr th:only-of-type {\n",
       "        vertical-align: middle;\n",
       "    }\n",
       "\n",
       "    .dataframe tbody tr th {\n",
       "        vertical-align: top;\n",
       "    }\n",
       "\n",
       "    .dataframe thead th {\n",
       "        text-align: right;\n",
       "    }\n",
       "</style>\n",
       "<table border=\"1\" class=\"dataframe\">\n",
       "  <thead>\n",
       "    <tr style=\"text-align: right;\">\n",
       "      <th></th>\n",
       "      <th>cgpa</th>\n",
       "      <th>profile_score</th>\n",
       "      <th>lpa</th>\n",
       "    </tr>\n",
       "  </thead>\n",
       "  <tbody>\n",
       "    <tr>\n",
       "      <th>0</th>\n",
       "      <td>8</td>\n",
       "      <td>8</td>\n",
       "      <td>4</td>\n",
       "    </tr>\n",
       "    <tr>\n",
       "      <th>1</th>\n",
       "      <td>7</td>\n",
       "      <td>9</td>\n",
       "      <td>5</td>\n",
       "    </tr>\n",
       "    <tr>\n",
       "      <th>2</th>\n",
       "      <td>6</td>\n",
       "      <td>10</td>\n",
       "      <td>6</td>\n",
       "    </tr>\n",
       "    <tr>\n",
       "      <th>3</th>\n",
       "      <td>5</td>\n",
       "      <td>12</td>\n",
       "      <td>17</td>\n",
       "    </tr>\n",
       "  </tbody>\n",
       "</table>\n",
       "</div>"
      ],
      "text/plain": [
       "   cgpa  profile_score  lpa\n",
       "0     8              8    4\n",
       "1     7              9    5\n",
       "2     6             10    6\n",
       "3     5             12   17"
      ]
     },
     "execution_count": 3,
     "metadata": {},
     "output_type": "execute_result"
    }
   ],
   "source": [
    "df"
   ]
  },
  {
   "cell_type": "code",
   "execution_count": 4,
   "id": "4b8f1e1a",
   "metadata": {},
   "outputs": [],
   "source": [
    "def intialize_parameters(layer_dims):\n",
    "    np.random.seed(3)\n",
    "    parameters={}\n",
    "    L=len(layer_dims)\n",
    "    for i in range(1,L):\n",
    "        parameters['W'+str(i)]=np.ones((layer_dims[i-1],layer_dims[i]))*0.1\n",
    "        parameters['b'+str(i)]=np.zeros((layer_dims[i],1))\n",
    "    return parameters\n",
    "    "
   ]
  },
  {
   "cell_type": "code",
   "execution_count": 5,
   "id": "7e9f6078",
   "metadata": {},
   "outputs": [
    {
     "data": {
      "text/plain": [
       "{'W1': array([[0.1, 0.1],\n",
       "        [0.1, 0.1]]),\n",
       " 'b1': array([[0.],\n",
       "        [0.]]),\n",
       " 'W2': array([[0.1],\n",
       "        [0.1]]),\n",
       " 'b2': array([[0.]])}"
      ]
     },
     "execution_count": 5,
     "metadata": {},
     "output_type": "execute_result"
    }
   ],
   "source": [
    "intialize_parameters([2,2,1]) "
   ]
  },
  {
   "cell_type": "code",
   "execution_count": 6,
   "id": "0edb3872",
   "metadata": {},
   "outputs": [],
   "source": [
    "def linear_forward(A_prev,W,b):\n",
    "    z=np.dot(W.T,A_prev)+b\n",
    "\n",
    "    return z\n"
   ]
  },
  {
   "cell_type": "code",
   "execution_count": 7,
   "id": "c7269cad",
   "metadata": {},
   "outputs": [],
   "source": [
    "def L_layer_forward(X,parameters):\n",
    "\n",
    "    A=X\n",
    "    L=len(parameters)//2\n",
    "\n",
    "    for i in range(1,L+1):\n",
    "        A_prev=A\n",
    "        W1=parameters['W'+str(i)]\n",
    "        b1=parameters['b'+str(i)]\n",
    "        print('A'+str(i-1)+': ',A_prev)\n",
    "        print('W'+str(i)+\": \",W1)\n",
    "        print('b'+str(i)+\": \",b1)\n",
    "        print('--'*20)\n",
    "\n",
    "        A=linear_forward(A_prev,W1,b1)\n",
    "        print('A'+str(i)+': ',A)\n",
    "        print('**'*20)\n",
    "\n",
    "        return A,A_prev"
   ]
  },
  {
   "cell_type": "code",
   "execution_count": 14,
   "id": "eae8ccf0",
   "metadata": {},
   "outputs": [
    {
     "name": "stdout",
     "output_type": "stream",
     "text": [
      "A0:  [[8]\n",
      " [8]]\n",
      "W1:  [[0.1 0.1]\n",
      " [0.1 0.1]]\n",
      "b1:  [[0.]\n",
      " [0.]]\n",
      "----------------------------------------\n",
      "A1:  [[1.6]\n",
      " [1.6]]\n",
      "****************************************\n"
     ]
    }
   ],
   "source": [
    "x=df[['cgpa','profile_score']].values[0].reshape(2,1)\n",
    "y=df[['lpa']].values[0][0]\n",
    "\n",
    "parameters=intialize_parameters([2,2,1])\n",
    "\n",
    "y_hat,A1=L_layer_forward(x,parameters)"
   ]
  },
  {
   "cell_type": "code",
   "execution_count": 9,
   "id": "4fb2c220",
   "metadata": {},
   "outputs": [
    {
     "data": {
      "text/plain": [
       "array([[8],\n",
       "       [8]])"
      ]
     },
     "execution_count": 9,
     "metadata": {},
     "output_type": "execute_result"
    }
   ],
   "source": [
    "x"
   ]
  },
  {
   "cell_type": "code",
   "execution_count": 10,
   "id": "b38a921f",
   "metadata": {},
   "outputs": [
    {
     "data": {
      "text/plain": [
       "np.int64(4)"
      ]
     },
     "execution_count": 10,
     "metadata": {},
     "output_type": "execute_result"
    }
   ],
   "source": [
    "y"
   ]
  },
  {
   "cell_type": "code",
   "execution_count": 11,
   "id": "e78f2fe5",
   "metadata": {},
   "outputs": [
    {
     "data": {
      "text/plain": [
       "{'W1': array([[0.1, 0.1],\n",
       "        [0.1, 0.1]]),\n",
       " 'b1': array([[0.],\n",
       "        [0.]]),\n",
       " 'W2': array([[0.1],\n",
       "        [0.1]]),\n",
       " 'b2': array([[0.]])}"
      ]
     },
     "execution_count": 11,
     "metadata": {},
     "output_type": "execute_result"
    }
   ],
   "source": [
    "parameters"
   ]
  },
  {
   "cell_type": "code",
   "execution_count": 15,
   "id": "debc683a",
   "metadata": {},
   "outputs": [],
   "source": [
    "\n",
    "y_hat = y_hat[0][0]"
   ]
  },
  {
   "cell_type": "code",
   "execution_count": 16,
   "id": "c3df7a0a",
   "metadata": {},
   "outputs": [
    {
     "data": {
      "text/plain": [
       "array([[8],\n",
       "       [8]])"
      ]
     },
     "execution_count": 16,
     "metadata": {},
     "output_type": "execute_result"
    }
   ],
   "source": [
    "A1"
   ]
  },
  {
   "cell_type": "code",
   "execution_count": 17,
   "id": "9c267abb",
   "metadata": {},
   "outputs": [
    {
     "data": {
      "text/plain": [
       "{'W1': array([[0.1, 0.1],\n",
       "        [0.1, 0.1]]),\n",
       " 'b1': array([[0.],\n",
       "        [0.]]),\n",
       " 'W2': array([[0.1],\n",
       "        [0.1]]),\n",
       " 'b2': array([[0.]])}"
      ]
     },
     "execution_count": 17,
     "metadata": {},
     "output_type": "execute_result"
    }
   ],
   "source": [
    "parameters"
   ]
  },
  {
   "cell_type": "code",
   "execution_count": 18,
   "id": "5e1a4867",
   "metadata": {},
   "outputs": [
    {
     "name": "stdout",
     "output_type": "stream",
     "text": [
      "A0:  [[ 5]\n",
      " [12]]\n",
      "W1:  [[0.1 0.1]\n",
      " [0.1 0.1]]\n",
      "b1:  [[0.]\n",
      " [0.]]\n",
      "----------------------------------------\n",
      "A1:  [[1.7]\n",
      " [1.7]]\n",
      "****************************************\n"
     ]
    }
   ],
   "source": [
    "x=df[['cgpa','profile_score']].values[3].reshape(2,1) #Shape(no of features,no.training exapmles)\n",
    "y=df[['lpa']].values[3][0]\n",
    "\n",
    "y_hat,A1=L_layer_forward(x,parameters)\n"
   ]
  },
  {
   "cell_type": "code",
   "execution_count": 24,
   "id": "7fb766b1",
   "metadata": {},
   "outputs": [],
   "source": [
    "def update_parameters(parameters,y,y_hat,A1,X):\n",
    "    parameters['W2'][0][0]=parameters['W2'][0][0]+(0.001*2*(y-y_hat)*A1[0][0])\n",
    "    parameters['W2'][1][0] = parameters['W2'][1][0] + (0.001 * 2 * (y - y_hat)*A1[1][0])\n",
    "    parameters['b2'][0][0] = parameters['W2'][1][0] + (0.001 * 2 * (y - y_hat))\n",
    "\n",
    "    parameters['W1'][0][0] = parameters['W1'][0][0] + (0.001 * 2 * (y - y_hat)*parameters['W2'][0][0]*X[0][0])\n",
    "    parameters['W1'][0][1] = parameters['W1'][0][1] + (0.001 * 2 * (y - y_hat)*parameters['W2'][0][0]*X[1][0])\n",
    "    parameters['b1'][0][0] = parameters['b1'][0][0] + (0.001 * 2 * (y - y_hat)*parameters['W2'][0][0])\n",
    "\n",
    "    parameters['W1'][1][0] = parameters['W1'][1][0] + (0.001 * 2 * (y - y_hat)*parameters['W2'][1][0]*X[0][0])\n",
    "    parameters['W1'][1][1] = parameters['W1'][1][1] + (0.001 * 2 * (y - y_hat)*parameters['W2'][1][0]*X[1][0])\n",
    "    parameters['b1'][1][0] = parameters['b1'][1][0] + (0.001 * 2 * (y - y_hat)*parameters['W2'][1][0])"
   ]
  },
  {
   "cell_type": "code",
   "execution_count": 25,
   "id": "4d286613",
   "metadata": {},
   "outputs": [
    {
     "name": "stdout",
     "output_type": "stream",
     "text": [
      "A0:  [[8]\n",
      " [8]]\n",
      "W1:  [[0.1 0.1]\n",
      " [0.1 0.1]]\n",
      "b1:  [[0.]\n",
      " [0.]]\n",
      "----------------------------------------\n",
      "A1:  [[1.6]\n",
      " [1.6]]\n",
      "****************************************\n"
     ]
    },
    {
     "data": {
      "text/plain": [
       "{'W1': array([[0.10531456, 0.10531456],\n",
       "        [0.10531456, 0.10531456]]),\n",
       " 'b1': array([[0.00066432],\n",
       "        [0.00066432]]),\n",
       " 'W2': array([[0.1384],\n",
       "        [0.1384]]),\n",
       " 'b2': array([[0.1432]])}"
      ]
     },
     "execution_count": 25,
     "metadata": {},
     "output_type": "execute_result"
    }
   ],
   "source": [
    "x=df[['cgpa','profile_score']].values[0].reshape(2,1)\n",
    "y=df[['lpa']].values[0][0]\n",
    "\n",
    "#parameter initialization\n",
    "parameters=intialize_parameters([2,2,1])\n",
    "\n",
    "y_hat,A1=L_layer_forward(x,parameters)\n",
    "y_hat=y_hat[0][0]\n",
    "\n",
    "update_parameters(parameters,y,y_hat,A1,x)\n",
    "parameters\n",
    "\n"
   ]
  },
  {
   "cell_type": "code",
   "execution_count": 27,
   "id": "aae3a450",
   "metadata": {},
   "outputs": [
    {
     "name": "stdout",
     "output_type": "stream",
     "text": [
      "A0:  [[7]\n",
      " [9]]\n",
      "W1:  [[0.1 0.1]\n",
      " [0.1 0.1]]\n",
      "b1:  [[0.]\n",
      " [0.]]\n",
      "----------------------------------------\n",
      "A1:  [[1.6]\n",
      " [1.6]]\n",
      "****************************************\n"
     ]
    },
    {
     "data": {
      "text/plain": [
       "{'W1': array([[0.10448896, 0.10577152],\n",
       "        [0.10481152, 0.10618624]]),\n",
       " 'b1': array([[0.00064128],\n",
       "        [0.00068736]]),\n",
       " 'W2': array([[0.1336],\n",
       "        [0.1432]]),\n",
       " 'b2': array([[0.148]])}"
      ]
     },
     "execution_count": 27,
     "metadata": {},
     "output_type": "execute_result"
    }
   ],
   "source": [
    "x=df[['cgpa','profile_score']].values[1].reshape(2,1)\n",
    "y=df[['lpa']].values[0][0]\n",
    "\n",
    "#parameter initialization\n",
    "parameters=intialize_parameters([2,2,1])\n",
    "\n",
    "y_hat,A1=L_layer_forward(x,parameters)\n",
    "y_hat=y_hat[0][0]\n",
    "\n",
    "update_parameters(parameters,y,y_hat,A1,x)\n",
    "parameters\n",
    "\n"
   ]
  },
  {
   "cell_type": "code",
   "execution_count": 28,
   "id": "28a8ae5f",
   "metadata": {},
   "outputs": [
    {
     "name": "stdout",
     "output_type": "stream",
     "text": [
      "A0:  [[ 6]\n",
      " [10]]\n",
      "W1:  [[0.1 0.1]\n",
      " [0.1 0.1]]\n",
      "b1:  [[0.]\n",
      " [0.]]\n",
      "----------------------------------------\n",
      "A1:  [[1.6]\n",
      " [1.6]]\n",
      "****************************************\n"
     ]
    },
    {
     "data": {
      "text/plain": [
       "{'W1': array([[0.10370944, 0.1061824 ],\n",
       "        [0.1042624 , 0.107104  ]]),\n",
       " 'b1': array([[0.00061824],\n",
       "        [0.0007104 ]]),\n",
       " 'W2': array([[0.1288],\n",
       "        [0.148 ]]),\n",
       " 'b2': array([[0.1528]])}"
      ]
     },
     "execution_count": 28,
     "metadata": {},
     "output_type": "execute_result"
    }
   ],
   "source": [
    "x=df[['cgpa','profile_score']].values[2].reshape(2,1)\n",
    "y=df[['lpa']].values[0][0]\n",
    "\n",
    "#parameter initialization\n",
    "parameters=intialize_parameters([2,2,1])\n",
    "\n",
    "y_hat,A1=L_layer_forward(x,parameters)\n",
    "y_hat=y_hat[0][0]\n",
    "\n",
    "update_parameters(parameters,y,y_hat,A1,x)\n",
    "parameters\n",
    "\n"
   ]
  },
  {
   "cell_type": "code",
   "execution_count": 29,
   "id": "574a5a97",
   "metadata": {},
   "outputs": [
    {
     "name": "stdout",
     "output_type": "stream",
     "text": [
      "A0:  [[8]\n",
      " [8]]\n",
      "W1:  [[0.1 0.1]\n",
      " [0.1 0.1]]\n",
      "b1:  [[0.]\n",
      " [0.]]\n",
      "----------------------------------------\n",
      "A1:  [[1.6]\n",
      " [1.6]]\n",
      "****************************************\n",
      "Epoch- 1 Loss- 5.76\n",
      "A0:  [[7]\n",
      " [9]]\n",
      "W1:  [[0.10531456 0.10531456]\n",
      " [0.10531456 0.10531456]]\n",
      "b1:  [[0.00066432]\n",
      " [0.00066432]]\n",
      "----------------------------------------\n",
      "A1:  [[1.68569728]\n",
      " [1.68569728]]\n",
      "****************************************\n",
      "Epoch- 1 Loss- 8.372301259899698\n",
      "A0:  [[ 6]\n",
      " [10]]\n",
      "W1:  [[0.11388934 0.11633927]\n",
      " [0.11450447 0.11713016]]\n",
      "b1:  [[0.00188929]\n",
      " [0.00197716]]\n",
      "----------------------------------------\n",
      "A1:  [[1.83027003]\n",
      " [1.87131441]]\n",
      "****************************************\n",
      "Epoch- 1 Loss- 11.377083525344014\n",
      "A0:  [[ 5]\n",
      " [12]]\n",
      "W1:  [[0.12563982 0.13592341]\n",
      " [0.12858742 0.14060174]]\n",
      "b1:  [[0.0038477 ]\n",
      " [0.00432432]]\n",
      "----------------------------------------\n",
      "A1:  [[2.17509584]\n",
      " [2.37116228]]\n",
      "****************************************\n",
      "Epoch- 1 Loss- 63.47725844895144\n",
      "A0:  [[8]\n",
      " [8]]\n",
      "W1:  [[0.18243196 0.27222454]\n",
      " [0.22305909 0.36733374]]\n",
      "b1:  [[0.01520613]\n",
      " [0.02321866]]\n",
      "----------------------------------------\n",
      "A1:  [[3.25913446]\n",
      " [5.13968487]]\n",
      "****************************************\n",
      "Epoch- 2 Loss- 0.5488817486100029\n",
      "A0:  [[7]\n",
      " [9]]\n",
      "W1:  [[0.18711351 0.2769061 ]\n",
      " [0.23075346 0.37502811]]\n",
      "b1:  [[0.01579132]\n",
      " [0.02418045]]\n",
      "----------------------------------------\n",
      "A1:  [[3.40236707]\n",
      " [5.33777615]]\n",
      "****************************************\n",
      "Epoch- 2 Loss- 1.5506563633401589\n",
      "A0:  [[ 6]\n",
      " [10]]\n",
      "W1:  [[0.19644736 0.28890675]\n",
      " [0.24591508 0.39452163]]\n",
      "b1:  [[0.01712473]\n",
      " [0.0263464 ]]\n",
      "----------------------------------------\n",
      "A1:  [[3.6549597 ]\n",
      " [5.70500319]]\n",
      "****************************************\n",
      "Epoch- 2 Loss- 2.86684224158286\n",
      "A0:  [[ 5]\n",
      " [12]]\n",
      "W1:  [[0.20898246 0.30979859]\n",
      " [0.26631023 0.42851354]]\n",
      "b1:  [[0.01921391]\n",
      " [0.02974559]]\n",
      "----------------------------------------\n",
      "A1:  [[4.25984897]\n",
      " [6.720901  ]]\n",
      "****************************************\n",
      "Epoch- 2 Loss- 42.72799374898153\n",
      "A0:  [[8]\n",
      " [8]]\n",
      "W1:  [[0.28196425 0.48495489]\n",
      " [0.39760073 0.74361073]]\n",
      "b1:  [[0.03381027]\n",
      " [0.05600369]]\n",
      "----------------------------------------\n",
      "A1:  [[5.47033009]\n",
      " [9.88452866]]\n",
      "****************************************\n",
      "Epoch- 3 Loss- 2.1618705747267084\n",
      "A0:  [[7]\n",
      " [9]]\n",
      "W1:  [[0.26904126 0.4720319 ]\n",
      " [0.37391076 0.71992077]]\n",
      "b1:  [[0.0321949 ]\n",
      " [0.05304244]]\n",
      "----------------------------------------\n",
      "A1:  [[5.28068061]\n",
      " [9.83655268]]\n",
      "****************************************\n",
      "Epoch- 3 Loss- 1.120326090865948\n",
      "A0:  [[ 6]\n",
      " [10]]\n",
      "W1:  [[0.26689812 0.46927644]\n",
      " [0.36997358 0.71485867]]\n",
      "b1:  [[0.03188874]\n",
      " [0.05247999]]\n",
      "----------------------------------------\n",
      "A1:  [[ 5.33301328]\n",
      " [10.01672536]]\n",
      "****************************************\n",
      "Epoch- 3 Loss- 0.8951744894049544\n",
      "A0:  [[ 5]\n",
      " [12]]\n",
      "W1:  [[0.27132743 0.47665862]\n",
      " [0.37809978 0.72840234]]\n",
      "b1:  [[0.03262695]\n",
      " [0.05383436]]\n",
      "----------------------------------------\n",
      "A1:  [[ 5.92646148]\n",
      " [11.17795554]]\n",
      "****************************************\n",
      "Epoch- 3 Loss- 31.327194696885254\n",
      "A0:  [[8]\n",
      " [8]]\n",
      "W1:  [[0.34487047 0.65316192]\n",
      " [0.51995763 1.06886117]]\n",
      "b1:  [[0.04733556]\n",
      " [0.08220593]]\n",
      "----------------------------------------\n",
      "A1:  [[ 6.96596035]\n",
      " [13.85839065]]\n",
      "****************************************\n",
      "Epoch- 4 Loss- 8.796920815269344\n",
      "A0:  [[7]\n",
      " [9]]\n",
      "W1:  [[0.3156058  0.62389725]\n",
      " [0.46141682 1.01032037]]\n",
      "b1:  [[0.04367748]\n",
      " [0.07488832]]\n",
      "----------------------------------------\n",
      "A1:  [[ 6.40566949]\n",
      " [13.53505237]]\n",
      "****************************************\n",
      "Epoch- 4 Loss- 5.386413765711977\n",
      "A0:  [[ 6]\n",
      " [10]]\n",
      "W1:  [[0.30385724 0.60879196]\n",
      " [0.43763833 0.97974802]]\n",
      "b1:  [[0.04199911]\n",
      " [0.0714914 ]]\n",
      "----------------------------------------\n",
      "A1:  [[ 6.24152592]\n",
      " [13.52172341]]\n",
      "****************************************\n",
      "Epoch- 4 Loss- 3.610387433673243\n",
      "A0:  [[ 5]\n",
      " [12]]\n",
      "W1:  [[0.30213536 0.60592215]\n",
      " [0.43415032 0.97393467]]\n",
      "b1:  [[0.04171213]\n",
      " [0.07091006]]\n",
      "----------------------------------------\n",
      "A1:  [[ 6.76219275]\n",
      " [14.78773681]]\n",
      "****************************************\n",
      "Epoch- 4 Loss- 28.91096490326137\n",
      "A0:  [[8]\n",
      " [8]]\n",
      "W1:  [[0.37343945 0.77705197]\n",
      " [0.58251375 1.33000691]]\n",
      "b1:  [[0.05597295]\n",
      " [0.10058275]]\n",
      "----------------------------------------\n",
      "A1:  [[ 7.70359859]\n",
      " [16.95705383]]\n",
      "****************************************\n",
      "Epoch- 5 Loss- 13.716642539826745\n",
      "A0:  [[7]\n",
      " [9]]\n",
      "W1:  [[0.3356793  0.73929183]\n",
      " [0.50015079 1.24764395]]\n",
      "b1:  [[0.05125293]\n",
      " [0.09028738]]\n",
      "----------------------------------------\n",
      "A1:  [[ 6.90236518]\n",
      " [16.4941257 ]]\n",
      "****************************************\n",
      "Epoch- 5 Loss- 8.667817917071652\n",
      "A0:  [[ 6]\n",
      " [10]]\n",
      "W1:  [[0.31941746 0.71838374]\n",
      " [0.46404503 1.20122226]]\n",
      "b1:  [[0.04892981]\n",
      " [0.08512941]]\n",
      "----------------------------------------\n",
      "A1:  [[ 6.60588488]\n",
      " [16.40765441]]\n",
      "****************************************\n",
      "Epoch- 5 Loss- 5.900910772142869\n",
      "A0:  [[ 5]\n",
      " [12]]\n",
      "W1:  [[0.31503097 0.71107293]\n",
      " [0.45427656 1.18494147]]\n",
      "b1:  [[0.04819873]\n",
      " [0.08350133]]\n",
      "----------------------------------------\n",
      "A1:  [[ 7.07467233]\n",
      " [17.85816366]]\n",
      "****************************************\n",
      "Epoch- 5 Loss- 29.053715405082432\n"
     ]
    }
   ],
   "source": [
    "#eochs implementation\n",
    "parameters=intialize_parameters([2,2,1])\n",
    "epochs=5\n",
    "\n",
    "for i in range(epochs):\n",
    "    loss=[]\n",
    "    for j in range(df.shape[0]):\n",
    "        x=df[['cgpa','profile_score']].values[j].reshape(2,1)\n",
    "        y=df[['lpa']].values[j][0]\n",
    "\n",
    "        y_hat,A1=L_layer_forward(x,parameters)\n",
    "        y_hat=y_hat[0][0]\n",
    "\n",
    "        update_parameters(parameters,y,y_hat,A1,x)\n",
    "\n",
    "        loss.append((y-y_hat)**2)\n",
    "\n",
    "        print('Epoch-',i+1,'Loss-',np.array(loss).mean())\n",
    "        parameters"
   ]
  },
  {
   "cell_type": "markdown",
   "id": "acf96802",
   "metadata": {},
   "source": []
  }
 ],
 "metadata": {
  "kernelspec": {
   "display_name": "Python 3",
   "language": "python",
   "name": "python3"
  },
  "language_info": {
   "codemirror_mode": {
    "name": "ipython",
    "version": 3
   },
   "file_extension": ".py",
   "mimetype": "text/x-python",
   "name": "python",
   "nbconvert_exporter": "python",
   "pygments_lexer": "ipython3",
   "version": "3.13.5"
  }
 },
 "nbformat": 4,
 "nbformat_minor": 5
}
